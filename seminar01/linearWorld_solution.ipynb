{
 "cells": [
  {
   "attachments": {},
   "cell_type": "markdown",
   "id": "9cd275b5",
   "metadata": {},
   "source": [
    "# Linear World\n",
    "\n",
    "In this notebook we implement a very simple example of the agent-environment interface used in reinforcement learning, called \"linear world\".\n",
    "\n",
    "The world consists of $n$ places in a row, labelled $0, 1, \\dots, n-1$, and the state of the world consists of the position where the player is located. The initial state has the player in the middle of the world:\n",
    "- The (empty) world for $n=5$: `\"_ _ _ _ _\"`\n",
    "- With the player in position $2$: `\"_ _ X _ _\"`\n",
    "\n",
    "The actions that the agent can take are `LEFT` and `RIGHT`, each moving the player one place in the indicated direction. In the two outer positions ($0$ and $n-1$), both actions result in a step towards the inside:\n",
    "- After action `RIGHT`: `\"_ _ _ X _\"`\n",
    "- After action `RIGHT`: `\"_ _ _ _ X\"`\n",
    "- After action `LEFT` or `RIGHT`: `\"_ _ _ X _\"`\n",
    "\n",
    "The reward is $+1$ for an action that leaves the player in one of the outer positions, and $0$, else. A possible sequence of events in this setting is:\n",
    "- `\"_ _ X _ _\"` $S_0 = 3, A_0 = \\text{``RIGHT\"}$\n",
    "- `\"_ _ _ X _\"` $R_1 = 0, S_1 = 3, A_1 = \\text{``LEFT\"}$\n",
    "- `\"_ _ X _ _\"` $R_2 = 0, S_2 = 2, A_2 = \\text{``LEFT\"}$\n",
    "- `\"_ X _ _ _\"` $R_3 = 0, S_3 = 1, A_3 = \\text{``LEFT\"}$\n",
    "- `\"X _ _ _ _\"` $R_4 = 1, S_4 = 0, A_4 = \\text{``RIGHT\"}$\n",
    "- `\"_ X _ _ _\"` $R_5 = 0, S_5 = 1, A_5 = \\dots$\n",
    "\n",
    "\n"
   ]
  },
  {
   "cell_type": "code",
   "execution_count": null,
   "id": "492de424",
   "metadata": {},
   "outputs": [],
   "source": [
    "# We use constants 1 and 2 to represent LEFT, RIGHT:\n",
    "LEFT = 1\n",
    "RIGHT = 2"
   ]
  },
  {
   "cell_type": "code",
   "execution_count": null,
   "id": "20f1057e",
   "metadata": {},
   "outputs": [],
   "source": [
    "class LinearWorld:\n",
    "    def __init__(self, length):\n",
    "        # Store length of world\n",
    "        self.length = length\n",
    "        \n",
    "        # Initialize state of world in the middle\n",
    "        self.pos = length // 2\n",
    "    \n",
    "    def step(self, action):\n",
    "        \"\"\"\n",
    "        Perform an action (going left or right)\n",
    "        \"\"\"\n",
    "        # Compute new state\n",
    "        if self.pos == 0:\n",
    "            self.pos += 1\n",
    "        elif self.pos == self.length - 1:\n",
    "            self.pos -= 1\n",
    "        elif action == LEFT:\n",
    "            self.pos -= 1\n",
    "        elif action == RIGHT:\n",
    "            self.pos += 1\n",
    "        else:\n",
    "            raise Exception('Invalid action!')\n",
    "\n",
    "        # Compute reward\n",
    "        if self.pos == 0:\n",
    "            reward = 1\n",
    "        elif self.pos == self.length - 1:\n",
    "            reward = 1\n",
    "        else:\n",
    "            reward = 0\n",
    "        \n",
    "        # Return state and reward\n",
    "        return self.pos, reward\n",
    "    \n",
    "    def reset(self):\n",
    "        \"\"\"\n",
    "        Reset the position to the middle\n",
    "        \"\"\"\n",
    "        self.pos = self.length // 2\n",
    "    \n",
    "    def showWorld(self):\n",
    "        \"\"\"\n",
    "        Print a representation of the linear world\n",
    "        \"\"\"\n",
    "        # Start with an empty string\n",
    "        text = ''\n",
    "        \n",
    "        # Add \"_\" for every empty spot, \"X\" for the player\n",
    "        for i in range(self.length):\n",
    "            if i == self.pos:\n",
    "                text = text + 'X '\n",
    "            else:\n",
    "                text = text + '_ '\n",
    "        print(text)\n",
    "    \n",
    "    def __str__(self):\n",
    "        # (!) Advanced concept:\n",
    "        # Custom string-conversion (used e.g. by `print()`)\n",
    "        \n",
    "        # Start with an empty string\n",
    "        text = ''\n",
    "        \n",
    "        # Add \"_\" for every empty spot, \"X\" for the player\n",
    "        for i in range(self.length):\n",
    "            if i == self.pos:\n",
    "                text = text + 'X '\n",
    "            else:\n",
    "                text = text + '_ '\n",
    "        return text\n"
   ]
  },
  {
   "cell_type": "markdown",
   "id": "62194489",
   "metadata": {},
   "source": [
    "## Testing the linear world\n",
    "\n",
    "First, we create an instance of `LinearWorld`, then we use the `.step()` method to perform actions ($A_t$) and observe the resulting state ($S_{t+1}$) and reward ($R_{t+1}$)."
   ]
  },
  {
   "cell_type": "code",
   "execution_count": null,
   "id": "3d97539d",
   "metadata": {},
   "outputs": [],
   "source": [
    "# Create a new instance of the LinearWorld class\n",
    "lw = LinearWorld(7)"
   ]
  },
  {
   "cell_type": "code",
   "execution_count": null,
   "id": "3971d599",
   "metadata": {},
   "outputs": [],
   "source": [
    "# Check the properties `length` and `pos` of the instance\n",
    "print(lw.length)\n",
    "print(lw.pos)"
   ]
  },
  {
   "cell_type": "code",
   "execution_count": null,
   "id": "a9c83ee8",
   "metadata": {},
   "outputs": [],
   "source": [
    "# Make a step\n",
    "lw.step(RIGHT)"
   ]
  },
  {
   "cell_type": "code",
   "execution_count": null,
   "id": "81accd1b",
   "metadata": {},
   "outputs": [],
   "source": [
    "# Make a step, store the outcome\n",
    "state, reward = lw.step(RIGHT)\n",
    "\n",
    "# Print the outcome\n",
    "print(\"New state:\", state)\n",
    "print(\"Reward:\", reward)"
   ]
  },
  {
   "cell_type": "markdown",
   "id": "51388ecb",
   "metadata": {},
   "source": [
    "We can use the method `.showWorld()` to visualize the events \"graphically\":"
   ]
  },
  {
   "cell_type": "code",
   "execution_count": null,
   "id": "c6fc658c",
   "metadata": {},
   "outputs": [],
   "source": [
    "# Make a step\n",
    "state, reward = lw.step(LEFT)\n",
    "\n",
    "# Print/show the outcome\n",
    "print(\"New state:\", state)\n",
    "print(\"Reward:\", reward)\n",
    "lw.showWorld()"
   ]
  },
  {
   "cell_type": "markdown",
   "id": "43500f82",
   "metadata": {},
   "source": [
    "## Two simple policies\n",
    "\n",
    "Next, we implement two policies and see how they perform over a timespan of $T = 100$ steps:\n",
    "- The random policy randomly chooses an action\n",
    "- The \"right\" policy always goes `RIGHT`"
   ]
  },
  {
   "cell_type": "code",
   "execution_count": null,
   "id": "476baeaf",
   "metadata": {},
   "outputs": [],
   "source": [
    "# We use numpy to choose a random action\n",
    "import random"
   ]
  },
  {
   "cell_type": "code",
   "execution_count": null,
   "id": "289ac2f7",
   "metadata": {},
   "outputs": [],
   "source": [
    "# Number of steps\n",
    "T = 100"
   ]
  },
  {
   "cell_type": "code",
   "execution_count": null,
   "id": "01b1b2b5",
   "metadata": {},
   "outputs": [],
   "source": [
    "# Run the random policy\n",
    "lw = LinearWorld(7)\n",
    "totalRandom = 0\n",
    "for t in range(T):\n",
    "    action = random.choice([LEFT, RIGHT])\n",
    "    state, reward = lw.step(action)\n",
    "    totalRandom += reward\n",
    "    # lw.showWorld() # Uncomment this to see each step"
   ]
  },
  {
   "cell_type": "code",
   "execution_count": null,
   "id": "55ae7a0b",
   "metadata": {},
   "outputs": [],
   "source": [
    "# Check the total rewards we got\n",
    "print(totalRandom)"
   ]
  },
  {
   "cell_type": "code",
   "execution_count": null,
   "id": "40aa7c5a",
   "metadata": {},
   "outputs": [],
   "source": [
    "# Run the \"right\" policy\n",
    "lw = LinearWorld(7)\n",
    "totalRight = 0\n",
    "for t in range(T):\n",
    "    action = RIGHT\n",
    "    state, reward = lw.step(action)\n",
    "    totalRight += reward\n",
    "    # lw.showWorld() # Uncomment this to see each step"
   ]
  },
  {
   "cell_type": "code",
   "execution_count": null,
   "id": "aa496b64",
   "metadata": {},
   "outputs": [],
   "source": [
    "# Check the total rewards we got\n",
    "print(totalRight)"
   ]
  }
 ],
 "metadata": {
  "kernelspec": {
   "display_name": "Python 3",
   "language": "python",
   "name": "python3"
  },
  "language_info": {
   "codemirror_mode": {
    "name": "ipython",
    "version": 3
   },
   "file_extension": ".py",
   "mimetype": "text/x-python",
   "name": "python",
   "nbconvert_exporter": "python",
   "pygments_lexer": "ipython3",
   "version": "3.10.6"
  },
  "vscode": {
   "interpreter": {
    "hash": "57c3bdca5a68245cc50b723d4c81bd24b2e1aa8df4f8df0134d90b967dbed3e1"
   }
  }
 },
 "nbformat": 4,
 "nbformat_minor": 5
}
