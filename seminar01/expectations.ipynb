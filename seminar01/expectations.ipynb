{
 "cells": [
  {
   "cell_type": "markdown",
   "metadata": {},
   "source": [
    "# Computing expected values"
   ]
  },
  {
   "cell_type": "markdown",
   "metadata": {},
   "source": [
    "In this notebook we use Python to compute expected values of random variables.\n",
    "This is a very important \"ingredient\" in dynamic programming methods,\n",
    "used to evaluate and find policies in small Markov Decision Process settings."
   ]
  },
  {
   "cell_type": "markdown",
   "metadata": {},
   "source": [
    "*<span style=\"color:red\">Below, the parts indicated by `#??` need to be filled in!</span>*"
   ]
  },
  {
   "cell_type": "markdown",
   "metadata": {},
   "source": [
    "### Example 1: normal dice"
   ]
  },
  {
   "cell_type": "markdown",
   "metadata": {},
   "source": [
    "Consider a fair, 6-sided dice. We want to find the expected value of the number shown after a roll.\n",
    "This can easily be computed to be $1/6 \\sum_{k=1}^6 k = 3.5$.\n",
    "In more complicated settings, it is often easier to iterate over possible outcomes and compute the expectation in a more naive fashion."
   ]
  },
  {
   "cell_type": "code",
   "execution_count": 5,
   "metadata": {},
   "outputs": [
    {
     "name": "stdout",
     "output_type": "stream",
     "text": [
      "1 0.16666666666666666\n",
      "2 0.16666666666666666\n",
      "3 0.16666666666666666\n",
      "4 0.16666666666666666\n",
      "5 0.16666666666666666\n",
      "6 0.16666666666666666\n",
      "3.5\n"
     ]
    }
   ],
   "source": [
    "## Function that computes the expected payout\n",
    "def ePayout():\n",
    "    numbers = list(range(1, 7)) # Possible numbers shown\n",
    "    probs = [1/6]*6 # Probability of each number\n",
    "    E = 0\n",
    "    for n, p in zip(numbers, probs):\n",
    "        print(n, p)\n",
    "        E += n*p # Compute \"contribution\" of this outcome\n",
    "    return E\n",
    "\n",
    "print(ePayout())"
   ]
  },
  {
   "cell_type": "markdown",
   "metadata": {},
   "source": [
    "### Example 2: $n$-sided dice"
   ]
  },
  {
   "cell_type": "markdown",
   "metadata": {},
   "source": [
    "Consider the following \"game\":\n",
    "The player rolls a fair $n$-sided dice (labelled $1, 2, \\dots, n$) and receives a payout of $X^2$,\n",
    "where $X$ denotes the number shown by the dice.\n",
    "What is the expected payout?"
   ]
  },
  {
   "cell_type": "code",
   "execution_count": 6,
   "metadata": {},
   "outputs": [
    {
     "name": "stdout",
     "output_type": "stream",
     "text": [
      "20.0\n"
     ]
    }
   ],
   "source": [
    "## Function that computes the expected payout for n\n",
    "def ePayout(n):\n",
    "    numbers = list(range(1, n+1))\n",
    "    probs = [1/n]*n\n",
    "    E = 0\n",
    "    for x, p in zip(numbers, probs):\n",
    "        E += x**2 * p # Compute \"contribution\" of this outcome\n",
    "        # ** is squared\n",
    "        \n",
    "    return E\n",
    "\n",
    "# Test for some value of n\n",
    "print(ePayout(7))"
   ]
  },
  {
   "cell_type": "markdown",
   "metadata": {},
   "source": [
    "*Bonus: this value can also be derived algebraically, using the identity $\\sum_{x=1}^n x^2 = n(n+1)(2n+1)/6$.*"
   ]
  },
  {
   "cell_type": "markdown",
   "metadata": {},
   "source": [
    "### Example 3: two-step game"
   ]
  },
  {
   "cell_type": "markdown",
   "metadata": {},
   "source": [
    "Consider the following \"game\":\n",
    "The player rolls a fair $n$-sided dice,\n",
    "let $X$ denote the result of this roll.\n",
    "If $X$ is odd, the player receives a payout of $-1$.\n",
    "If $X$ is even, the player draws a card from a deck labelled $(-2, -1, 0, 1, \\dots, X/2)$\n",
    "and receives a payout equal to the number drawn.\n",
    "What is the expected payout?"
   ]
  },
  {
   "cell_type": "code",
   "execution_count": 8,
   "metadata": {},
   "outputs": [
    {
     "name": "stdout",
     "output_type": "stream",
     "text": [
      "-1.0000\n",
      "-0.7500\n",
      "-0.8333\n",
      "-0.6250\n"
     ]
    }
   ],
   "source": [
    "## Function that computes the expected payout for n, m\n",
    "def ePayout(n):\n",
    "    xNumbers = list(range(1, n+1))\n",
    "    xProbs = [1/n]*n\n",
    "    E = 0\n",
    "    for x, px in zip(xNumbers, xProbs):\n",
    "        if x % 2 != 0: # check if odd\n",
    "            E += (-1) * px\n",
    "        else: # check if even\n",
    "            yNumbers = list(range(-2, x//2 +1)) # rnage cannot have decimal as length, make an integer (//)\n",
    "            yN = len(yNumbers)\n",
    "            yProbs = [1/yN] * yN\n",
    "            for y, py in zip(yNumbers, yProbs):\n",
    "                E+= y * py * px\n",
    "                \n",
    "    return E\n",
    "\n",
    "# Check values for some n\n",
    "for x in range(1, 5):\n",
    "    print(f'{ePayout(x):.4f}')"
   ]
  },
  {
   "cell_type": "markdown",
   "metadata": {},
   "source": [
    "Not a good game to play, but large value of $n$, profitable game to play. "
   ]
  },
  {
   "cell_type": "markdown",
   "metadata": {},
   "source": [
    "### Monte Carlo"
   ]
  },
  {
   "cell_type": "markdown",
   "metadata": {},
   "source": [
    "The expectations above can also be estimated using Monte-Carlo estimation,\n",
    "repeating the experiment $N$ times for some large $N$."
   ]
  },
  {
   "cell_type": "code",
   "execution_count": 9,
   "metadata": {},
   "outputs": [],
   "source": [
    "# We need to generate random numbers to do this\n",
    "import random"
   ]
  },
  {
   "cell_type": "code",
   "execution_count": 14,
   "metadata": {},
   "outputs": [
    {
     "name": "stdout",
     "output_type": "stream",
     "text": [
      "[3, 2, 3, 1, 2, 1, 4, 4, 5, 2, 6, 2, 4, 2, 5, 5, 3, 4, 3, 6, 5, 4, 4, 3, 4, 6, 4, 2, 3, 6, 4, 3, 1, 6, 5, 5, 3, 4, 4, 6, 6, 4, 6, 4, 3, 3, 4, 6, 5, 5, 2, 2, 3, 6, 1, 5, 3, 5, 4, 3, 6, 2, 1, 2, 6, 3, 4, 3, 2, 2, 4, 6, 4, 6, 5, 6, 2, 6, 4, 6, 3, 1, 1, 4, 3, 6, 6, 1, 2, 4, 6, 2, 2, 1, 3, 3, 2, 2, 3, 4]\n"
     ]
    },
    {
     "data": {
      "text/plain": [
       "3.68"
      ]
     },
     "execution_count": 14,
     "metadata": {},
     "output_type": "execute_result"
    }
   ],
   "source": [
    "## Example 1\n",
    "def mcPayout(N):\n",
    "    xList = [0] * N # initalize 0 for the entire vector\n",
    "    for i in range(N):\n",
    "        xList[i] = random.randint(1, 6) # realization of experiement\n",
    "    print(xList)\n",
    "    return sum(xList) / N # compute the average\n",
    "\n",
    "# Run MC\n",
    "mcPayout(100) # Choice of n needs to be sensible, need something in the middle between runtime, run fast then need more precision (increase n)"
   ]
  },
  {
   "cell_type": "code",
   "execution_count": 15,
   "metadata": {},
   "outputs": [
    {
     "data": {
      "text/plain": [
       "20.002"
      ]
     },
     "execution_count": 15,
     "metadata": {},
     "output_type": "execute_result"
    }
   ],
   "source": [
    "## Example 2, variable length or sides of the di\n",
    "def mcPayout(N, n):\n",
    "    xList = [0] * N\n",
    "    for i in range(N):\n",
    "        xList[i] = random.randint(1, n)**2\n",
    "    \n",
    "    return sum(xList) / N\n",
    "\n",
    "# Run MC\n",
    "mcPayout(1000, 7)"
   ]
  },
  {
   "cell_type": "code",
   "execution_count": 16,
   "metadata": {},
   "outputs": [
    {
     "name": "stdout",
     "output_type": "stream",
     "text": [
      "-1.0\n",
      "-0.727\n",
      "-0.807\n",
      "-0.641\n"
     ]
    }
   ],
   "source": [
    "## Example 3\n",
    "def mcPayout(N, n):\n",
    "    xList = [0] * N\n",
    "    for i in range(N):\n",
    "        dice = random.randint(1, n)\n",
    "        if dice % 2 != 0:\n",
    "            xList[i] = -1\n",
    "        else:\n",
    "            cards = list(range(-2, dice // 2 + 1))\n",
    "            xList[i] = random.choice(cards) # Choose a random element from a non-empty sequence\n",
    "\n",
    "    return sum(xList) / N\n",
    "\n",
    "# Run MC\n",
    "for x in range(1, 5):\n",
    "    print(mcPayout(1000, x))"
   ]
  }
 ],
 "metadata": {
  "kernelspec": {
   "display_name": "Python 3",
   "language": "python",
   "name": "python3"
  },
  "language_info": {
   "codemirror_mode": {
    "name": "ipython",
    "version": 3
   },
   "file_extension": ".py",
   "mimetype": "text/x-python",
   "name": "python",
   "nbconvert_exporter": "python",
   "pygments_lexer": "ipython3",
   "version": "3.11.8"
  }
 },
 "nbformat": 4,
 "nbformat_minor": 2
}
