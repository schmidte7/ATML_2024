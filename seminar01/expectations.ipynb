{
 "cells": [
  {
   "cell_type": "markdown",
   "metadata": {},
   "source": [
    "# Computing expected values"
   ]
  },
  {
   "cell_type": "markdown",
   "metadata": {},
   "source": [
    "In this notebook we use Python to compute expected values of random variables.\n",
    "This is a very important \"ingredient\" in dynamic programming methods,\n",
    "used to evaluate and find policies in small Markov Decision Process settings."
   ]
  },
  {
   "cell_type": "markdown",
   "metadata": {},
   "source": [
    "*<span style=\"color:red\">Below, the parts indicated by `#??` need to be filled in!</span>*"
   ]
  },
  {
   "cell_type": "markdown",
   "metadata": {},
   "source": [
    "### Example 1: normal dice"
   ]
  },
  {
   "cell_type": "markdown",
   "metadata": {},
   "source": [
    "Consider a fair, 6-sided dice. We want to find the expected value of the number shown after a roll.\n",
    "This can easily be computed to be $1/6 \\sum_{k=1}^6 k = 3.5$.\n",
    "In more complicated settings, it is often easier to iterate over possible outcomes and compute the expectation in a more naive fashion."
   ]
  },
  {
   "cell_type": "code",
   "execution_count": null,
   "metadata": {},
   "outputs": [],
   "source": [
    "## Function that computes the expected payout\n",
    "def ePayout():\n",
    "    numbers = # ?? Possible numbers shown\n",
    "    probs = # ?? Probability of each number\n",
    "    E = 0\n",
    "    for n, p in zip(numbers, probs):\n",
    "        E += # ?? Compute \"contribution\" of this outcome\n",
    "    return E\n",
    "\n",
    "print(ePayout())"
   ]
  },
  {
   "cell_type": "markdown",
   "metadata": {},
   "source": [
    "### Example 2: $n$-sided dice"
   ]
  },
  {
   "cell_type": "markdown",
   "metadata": {},
   "source": [
    "Consider the following \"game\":\n",
    "The player rolls a fair $n$-sided dice (labelled $1, 2, \\dots, n$) and receives a payout of $X^2$,\n",
    "where $X$ denotes the number shown by the dice.\n",
    "What is the expected payout?"
   ]
  },
  {
   "cell_type": "code",
   "execution_count": null,
   "metadata": {},
   "outputs": [],
   "source": [
    "## Function that computes the expected payout for n\n",
    "def ePayout(n):\n",
    "    # ??\n",
    "    return # ??\n",
    "\n",
    "# Test for some value of n\n",
    "print(ePayout(7))"
   ]
  },
  {
   "cell_type": "markdown",
   "metadata": {},
   "source": [
    "*Bonus: this value can also be derived algebraically, using the identity $\\sum_{x=1}^n x^2 = n(n+1)(2n+1)/6$.*"
   ]
  },
  {
   "cell_type": "markdown",
   "metadata": {},
   "source": [
    "### Example 3: two-step game"
   ]
  },
  {
   "cell_type": "markdown",
   "metadata": {},
   "source": [
    "Consider the following \"game\":\n",
    "The player rolls a fair $n$-sided dice,\n",
    "let $X$ denote the result of this roll.\n",
    "If $X$ is odd, the player receives a payout of $-1$.\n",
    "If $X$ is even, the player draws a card from a deck labelled $(-2, -1, 0, 1, \\dots, X/2)$\n",
    "and receives a payout equal to the number drawn.\n",
    "What is the expected payout?"
   ]
  },
  {
   "cell_type": "code",
   "execution_count": null,
   "metadata": {},
   "outputs": [],
   "source": [
    "## Function that computes the expected payout for n, m\n",
    "def ePayout(n):\n",
    "    # ??\n",
    "    return # ??\n",
    "\n",
    "# Check values for some n\n",
    "for x in range(1, 5):\n",
    "    print(f'{ePayout(x):.4f}')"
   ]
  },
  {
   "cell_type": "markdown",
   "metadata": {},
   "source": [
    "### Monte Carlo"
   ]
  },
  {
   "cell_type": "markdown",
   "metadata": {},
   "source": [
    "The expectations above can also be estimated using Monte-Carlo estimation,\n",
    "repeating the experiment $N$ times for some large $N$."
   ]
  },
  {
   "cell_type": "code",
   "execution_count": null,
   "metadata": {},
   "outputs": [],
   "source": [
    "# We need to generate random numbers to do this\n",
    "import random"
   ]
  },
  {
   "cell_type": "code",
   "execution_count": null,
   "metadata": {},
   "outputs": [],
   "source": [
    "## Example 1\n",
    "def mcPayout(N):\n",
    "    xList = [0] * N\n",
    "    for i in range(N):\n",
    "        xList[i] = random.randint(1, 6)\n",
    "    return sum(xList) / N\n",
    "\n",
    "# Run MC\n",
    "mcPayout(1000)"
   ]
  },
  {
   "cell_type": "code",
   "execution_count": null,
   "metadata": {},
   "outputs": [],
   "source": [
    "## Example 2\n",
    "def mcPayout(N, n):\n",
    "    # ??\n",
    "\n",
    "# Run MC\n",
    "mcPayout(1000, 7)"
   ]
  },
  {
   "cell_type": "code",
   "execution_count": null,
   "metadata": {},
   "outputs": [],
   "source": [
    "## Example 3\n",
    "def mcPayout(N, n):\n",
    "    # ??\n",
    "\n",
    "# Run MC\n",
    "for x in range(1, 5):\n",
    "    print(mcPayout(1000, x))"
   ]
  }
 ],
 "metadata": {
  "kernelspec": {
   "display_name": "Python 3",
   "language": "python",
   "name": "python3"
  },
  "language_info": {
   "codemirror_mode": {
    "name": "ipython",
    "version": 3
   },
   "file_extension": ".py",
   "mimetype": "text/x-python",
   "name": "python",
   "nbconvert_exporter": "python",
   "pygments_lexer": "ipython3",
   "version": "3.11.0"
  }
 },
 "nbformat": 4,
 "nbformat_minor": 2
}
