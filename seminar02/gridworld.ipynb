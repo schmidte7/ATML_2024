{
 "cells": [
  {
   "cell_type": "markdown",
   "metadata": {},
   "source": [
    "# Gridworld"
   ]
  },
  {
   "attachments": {},
   "cell_type": "markdown",
   "metadata": {},
   "source": [
    "### Description"
   ]
  },
  {
   "attachments": {},
   "cell_type": "markdown",
   "metadata": {},
   "source": [
    "In this seminar we implement an example of the agent-environment interface used in reinforcement learning, called \"gridworld\".\n",
    "\n",
    "The world consists of an $n \\times m$ grid of squares, indexed by $(i,j)$ with $i = 0, 1, \\dots, n-1$ and $j = 0, 1, \\dots, m-1$.\n",
    "\n",
    "The state of the environment consists of the player being in one of the squares.\n",
    "\n",
    "The possible actions are steps in the directions \"UP\", \"RIGHT\", \"DOWN\", \"LEFT\".\n",
    "\n",
    "The rewards and states after each action can depend on multiple factors:\n",
    "- Some squares can give positive/negative rewards\n",
    "- Squares might be \"blocked\" and not possible to step on\n",
    "- Stepping off the board is impossible\n",
    "- Invalid moves might give a negative reward as \"punishment\"\n",
    "- There might be \"portals\" that take the player to a distant square, regardless of their action\n",
    "- There might be deterministic or random effects that change the outcome of actions, e.g. \"wind\" or \"ice\"."
   ]
  },
  {
   "attachments": {},
   "cell_type": "markdown",
   "metadata": {},
   "source": [
    "Variants of this gridworld can be used to illustrate a wide range of concepts and algorithms in reinforcement learning.\n",
    "For instance, in [Sutton & Barto](http://incompleteideas.net/book/the-book-2nd.html) see:\n",
    "- Example 3.5, 3.8\n",
    "- Figure 4.1\n",
    "- Example 6.5, 6.6\n",
    "- Figure 7.4\n",
    "- Example 8.1, 8.3\n"
   ]
  },
  {
   "attachments": {},
   "cell_type": "markdown",
   "metadata": {},
   "source": [
    "You can either implement this class in a separate module (recommended) or inside a Jupyter cell, see `reuseCode.ipynb` for details."
   ]
  },
  {
   "attachments": {},
   "cell_type": "markdown",
   "metadata": {},
   "source": [
    "### Implementation"
   ]
  },
  {
   "attachments": {},
   "cell_type": "markdown",
   "metadata": {},
   "source": [
    "Below is a suggested skeleton of a `GridWorld` class, feel free to modify or rename everything.\n",
    "If you want to implement this class in a separate module, create a new file `gridworld.py`, copy the code there, and delete this code cell."
   ]
  },
  {
   "cell_type": "code",
   "execution_count": 15,
   "metadata": {},
   "outputs": [],
   "source": [
    "class GridWorld:\n",
    "\n",
    "    def __init__(self, height, width):\n",
    "        # Store the height and width as attributes\n",
    "        self.height = height\n",
    "        self.width = width\n",
    "        \n",
    "        # Initialize the player position\n",
    "        self.pos = (0, 0)\n",
    "        \n",
    "    # A method to perform an action:\n",
    "    # def step(??):\n",
    "    #     ...\n",
    "    \n",
    "    # A method to reset the gridworld:\n",
    "    # def reset(??):\n",
    "    #     ...\n",
    "    \n",
    "    # A method to output the world:\n",
    "    # def drawWorld(??):\n",
    "    #     ...\n",
    "    \n",
    "    # (!) More difficult:\n",
    "    # A method to interactively \"play\" in the gridworld:\n",
    "    # def play(??):\n",
    "    #     ...\n",
    "    \n",
    "\n",
    "    # Any other method that might be useful to the user\n",
    "    # ...\n",
    "\n",
    "    # Any \"helper\" methods you use internally\n",
    "    # ...\n",
    "    "
   ]
  },
  {
   "attachments": {},
   "cell_type": "markdown",
   "metadata": {},
   "source": [
    "Once you have implemented the basic methods above, you should be able to walk around in an empty gridworld! 🎉\n",
    "\n",
    "To make things more interesting, implement for example:\n",
    "- Positive rewards for reaching certain squares\n",
    "- Negative rewards for \"illegal\" moves\n",
    "- Blocked squares that cannot be entered\n",
    "- Teleporting squares that move the player to another spot. This is useful to avoid optimal \"back-and-forth\" policies.\n",
    "- A `.previewMove()` method to simulate given actions from a given start square.\n",
    "- A random effect (ice, wind, ...) that changes the effect of some actions.\n"
   ]
  },
  {
   "attachments": {},
   "cell_type": "markdown",
   "metadata": {},
   "source": [
    "### Testing"
   ]
  },
  {
   "attachments": {},
   "cell_type": "markdown",
   "metadata": {},
   "source": [
    "Below you can test individual aspects of your gridworld class with short code cells.\n",
    "\n",
    "You can re-run cells or run them out of order, but it is recommended that the notebook still works if you `Run All` in a fresh jupyter session.\n",
    "\n",
    "If you implemented an interactive `.play()` method, you might not be able to test it from inside a jupyter notebook."
   ]
  },
  {
   "cell_type": "code",
   "execution_count": 3,
   "metadata": {},
   "outputs": [],
   "source": [
    "# Import the GridWorld class from `gridworld.py`\n",
    "from gridworld import GridWorld"
   ]
  },
  {
   "cell_type": "code",
   "execution_count": 4,
   "metadata": {},
   "outputs": [],
   "source": [
    "# Create a new gridworld instance\n",
    "# gw = ...?"
   ]
  },
  {
   "cell_type": "code",
   "execution_count": 11,
   "metadata": {},
   "outputs": [],
   "source": [
    "# Take some arbitrary actions\n",
    "# gw.step(??)\n"
   ]
  },
  {
   "cell_type": "code",
   "execution_count": 12,
   "metadata": {},
   "outputs": [],
   "source": [
    "# Test any other behaviour that you implemented..."
   ]
  }
 ],
 "metadata": {
  "kernelspec": {
   "display_name": "Python 3 (ipykernel)",
   "language": "python",
   "name": "python3"
  },
  "language_info": {
   "codemirror_mode": {
    "name": "ipython",
    "version": 3
   },
   "file_extension": ".py",
   "mimetype": "text/x-python",
   "name": "python",
   "nbconvert_exporter": "python",
   "pygments_lexer": "ipython3",
   "version": "3.10.6"
  },
  "vscode": {
   "interpreter": {
    "hash": "57c3bdca5a68245cc50b723d4c81bd24b2e1aa8df4f8df0134d90b967dbed3e1"
   }
  }
 },
 "nbformat": 4,
 "nbformat_minor": 2
}
