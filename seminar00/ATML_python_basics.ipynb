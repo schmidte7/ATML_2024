{
 "cells": [
  {
   "cell_type": "markdown",
   "metadata": {},
   "source": [
    "# Python Basics"
   ]
  },
  {
   "cell_type": "markdown",
   "metadata": {},
   "source": [
    "## Writing Python code"
   ]
  },
  {
   "cell_type": "markdown",
   "metadata": {},
   "source": [
    "Two main file types to write Python code:\n",
    "- Jupyter Notebooks (`FILENAME.ipynb`), very often used. Text and code, output mixed together. Can get annoying if you want to reuse code. Need to copy and paste that code.\n",
    "- Plain Python files (`FILENAME.py`), do not have graphical output, but easier for functions.\n",
    "\n",
    "\n",
    "Different ways to edit these files:\n",
    "- Jupyter Notebook (program)\n",
    "- Pycharm\n",
    "- vscode\n",
    "- ..."
   ]
  },
  {
   "cell_type": "markdown",
   "metadata": {},
   "source": [
    "## Variables"
   ]
  },
  {
   "cell_type": "markdown",
   "metadata": {},
   "source": [
    "### Basic data types"
   ]
  },
  {
   "cell_type": "code",
   "execution_count": 1,
   "metadata": {},
   "outputs": [],
   "source": [
    "# Integers\n",
    "x = 5\n",
    "\n",
    "# Floats\n",
    "y = 3.5\n",
    "\n",
    "# Booleans\n",
    "z = True\n",
    "\n",
    "# Strings\n",
    "greeting = 'Hello, Emily!'"
   ]
  },
  {
   "cell_type": "markdown",
   "metadata": {},
   "source": [
    "### Container types"
   ]
  },
  {
   "cell_type": "code",
   "execution_count": 5,
   "metadata": {},
   "outputs": [
    {
     "name": "stdout",
     "output_type": "stream",
     "text": [
      "[1 2 3 4 5] {1, 2, 3} {'a': 1, 'b': 2, 'c': 3}\n"
     ]
    }
   ],
   "source": [
    "# Lists\n",
    "l = [1, 2, 3, 4, 5]\n",
    "\n",
    "# Tuples - cannot be changed\n",
    "t = (1, 2, 3, 4, 5)\n",
    "\n",
    "# Dictionaries\n",
    "d = {'a': 1, 'b': 2, 'c': 3}\n",
    "\n",
    "# Sets\n",
    "s = {1, 1, 3, 2, 3}\n",
    "\n",
    "# Numpy arrays\n",
    "import numpy as np\n",
    "a = np.array([1, 2, 3, 4, 5])\n",
    "print(a, s, d)"
   ]
  },
  {
   "cell_type": "markdown",
   "metadata": {},
   "source": [
    "### Mutable vs. Immutable types"
   ]
  },
  {
   "cell_type": "code",
   "execution_count": 3,
   "metadata": {},
   "outputs": [],
   "source": [
    "# Mutable data types: lists, dictionaries, sets, numpy arrays - always edit, overwrite entries\n",
    "l[0] = 10\n",
    "s.add(10)\n",
    "d['d'] = 10"
   ]
  },
  {
   "cell_type": "code",
   "execution_count": 6,
   "metadata": {},
   "outputs": [
    {
     "name": "stdout",
     "output_type": "stream",
     "text": [
      "l\n",
      "3\n"
     ]
    }
   ],
   "source": [
    "# Immutable data types: integers, floats, booleans, strings, tuples - advantages because they cannot be changed. Used a lot in libraries and larger projects. They can be hashed. \n",
    "# Hashing: One-way summary function. ID, number, which is not unique but as soon as object changes, hash function will change a lot.\n",
    "# Use hashes as addresses for objects, but also can be used to comepare two objects.\n",
    "# Only immutable objects can be hashed.\n",
    "print(greeting[2])\n",
    "# greeting[2] = 'a'  # This will raise an error\n",
    "\n",
    "print(t[2])\n",
    "# t[2] = 10  # This will raise an error"
   ]
  },
  {
   "cell_type": "markdown",
   "metadata": {},
   "source": [
    "Use cases of immutable data types:"
   ]
  },
  {
   "cell_type": "code",
   "execution_count": 8,
   "metadata": {},
   "outputs": [
    {
     "data": {
      "text/plain": [
       "529344067295497451"
      ]
     },
     "execution_count": 8,
     "metadata": {},
     "output_type": "execute_result"
    }
   ],
   "source": [
    "# Immutable types can be hashed, needs to be a tuple, NOT LIST\n",
    "hash((1, 2, 3)) "
   ]
  },
  {
   "cell_type": "code",
   "execution_count": 9,
   "metadata": {},
   "outputs": [
    {
     "data": {
      "text/plain": [
       "{(1, 2), (3, 4), (5, 6)}"
      ]
     },
     "execution_count": 9,
     "metadata": {},
     "output_type": "execute_result"
    }
   ],
   "source": [
    "# Therefore, they used as keys in dictionaries\n",
    "d = {1: 'a', 2: 'b', 3: 'c'}\n",
    "d = {(1, 2): 'a', (3, 4): 'b', (5, 6): 'c'} # tuple, coorindate wise, can be stored as tuples, keys are hashed in the background\n",
    "# Can use the hash as an address\n",
    "\n",
    "# and as elements in sets\n",
    "s = {1, 2, 3, 4, 5}\n",
    "s = {(1, 2), (3, 4), (5, 6)}\n",
    "s\n",
    "\n",
    "# Mutable types cannot be hashed\n",
    "# hash([1, 2])\n",
    "# d = {[1, 2]: 'a', [3, 4]: 'b', [5, 6]: 'c'}\n",
    "# s = {[1, 2], [3, 4]}"
   ]
  },
  {
   "cell_type": "code",
   "execution_count": 12,
   "metadata": {},
   "outputs": [
    {
     "name": "stdout",
     "output_type": "stream",
     "text": [
      "[1, 2, 3]\n",
      "[10, 2, 3]\n",
      "[10, 2, 3]\n"
     ]
    },
    {
     "data": {
      "text/plain": [
       "10"
      ]
     },
     "execution_count": 12,
     "metadata": {},
     "output_type": "execute_result"
    }
   ],
   "source": [
    "# Immutable types are sometimes \"safer\"\n",
    "my_list = [1, 2, 3] # List of numbers and want to give same list to another function, they should have same number.\n",
    "print(my_list)\n",
    "\n",
    "olis_list = my_list\n",
    "olis_list[0] = 10\n",
    "print(olis_list)\n",
    "print(my_list) # Accidentally modified \"my_list\" when not wanting to\n",
    "\n",
    "my_list[0]  # This will return 10\n",
    "# Very common \"problem\" in function arguments and return values!\n",
    "# This behavior is not possible with immutable types!"
   ]
  },
  {
   "cell_type": "code",
   "execution_count": null,
   "metadata": {},
   "outputs": [],
   "source": [
    "# Immutable vs. mutable is also very important in function arguments/returns (below)!"
   ]
  },
  {
   "cell_type": "markdown",
   "metadata": {},
   "source": [
    "### \"Constants\""
   ]
  },
  {
   "cell_type": "code",
   "execution_count": null,
   "metadata": {},
   "outputs": [],
   "source": [
    "# Python does not have constants\n",
    "# It is a convention to use UPPERCASE names for variables that should not be changed\n",
    "PI = 3.14159\n",
    "TAX_RATE = 0.21\n",
    "MAX_MESSAGE_LENGTH = 140"
   ]
  },
  {
   "cell_type": "markdown",
   "metadata": {},
   "source": [
    "## Control structures"
   ]
  },
  {
   "cell_type": "code",
   "execution_count": null,
   "metadata": {},
   "outputs": [],
   "source": [
    "# If-then-else\n",
    "x = 5\n",
    "if x < 10:\n",
    "    print('x is less than 10')\n",
    "elif x > 20:\n",
    "    print('x is greater than 20')\n",
    "else:\n",
    "    print('x is between 10 and 20')\n"
   ]
  },
  {
   "cell_type": "code",
   "execution_count": 14,
   "metadata": {},
   "outputs": [
    {
     "name": "stdout",
     "output_type": "stream",
     "text": [
      "Current sum: 3\n",
      "Current sum: 7\n",
      "Current sum: 12\n",
      "Total sum: 25\n"
     ]
    }
   ],
   "source": [
    "# For-loops\n",
    "numbers = [3, 4, -2, 5, -7, 13, 4, 2]\n",
    "# Task: add all positive numbers, stop early if a numbers is >10\n",
    "sum = 0\n",
    "for x in numbers:\n",
    "    if x < 0:\n",
    "        continue # Continue with the next iteration, negative numbers are skipped\n",
    "    sum += x\n",
    "    if x > 10:\n",
    "        break # Break out of the for loop when the values are larger than 10\n",
    "    print('Current sum:', sum)\n",
    "\n",
    "print('Total sum:', sum)"
   ]
  },
  {
   "cell_type": "code",
   "execution_count": 15,
   "metadata": {},
   "outputs": [
    {
     "name": "stdout",
     "output_type": "stream",
     "text": [
      "0 3\n",
      "1 4\n",
      "2 -2\n",
      "3 5\n",
      "4 -7\n",
      "5 13\n",
      "6 4\n",
      "7 2\n"
     ]
    }
   ],
   "source": [
    "# Enumerate to get the index of each\n",
    "for i, x in enumerate(numbers):\n",
    "    print(i, x)"
   ]
  },
  {
   "cell_type": "code",
   "execution_count": 16,
   "metadata": {},
   "outputs": [
    {
     "name": "stdout",
     "output_type": "stream",
     "text": [
      "Alice is 25 years old.\n",
      "Bob is 30 years old.\n",
      "Charlie is 35 years old.\n"
     ]
    }
   ],
   "source": [
    "# Zip\n",
    "# If have matching information, use zip to zip them together. Helpful with dictionaries. Need to be the same length.\n",
    "names = ['Alice', 'Bob', 'Charlie']\n",
    "ages = [25, 30, 35]\n",
    "for name, age in zip(names, ages):\n",
    "    print(name, 'is', age, 'years old.')"
   ]
  },
  {
   "cell_type": "code",
   "execution_count": null,
   "metadata": {},
   "outputs": [],
   "source": [
    "# While loops\n",
    "# Useful for iterating until a condition is met\n",
    "# Need when we need an error term converging to 0 but unsure when it will stop. Could lead to problems if condition is never met.\n",
    "x = 5\n",
    "while x > 0.1:\n",
    "    print(x)\n",
    "    x *= 0.4"
   ]
  },
  {
   "cell_type": "code",
   "execution_count": 19,
   "metadata": {},
   "outputs": [
    {
     "name": "stdout",
     "output_type": "stream",
     "text": [
      "[6, 8, -4, 10, -14, 26, 8, 4]\n",
      "[6, 8, 10, 26, 8, 4]\n"
     ]
    }
   ],
   "source": [
    "# List comprehension\n",
    "# Loops over the entries and numbers, immediately stores in a vector\n",
    "y = [2*x for x in numbers]\n",
    "yPos = [2*x for x in numbers if x > 0] # Condition if you'd like. Only use in one line \n",
    "print(y)\n",
    "print(yPos)\n",
    "# Can have break statements but not continue"
   ]
  },
  {
   "cell_type": "markdown",
   "metadata": {},
   "source": [
    "## User interaction"
   ]
  },
  {
   "cell_type": "markdown",
   "metadata": {},
   "source": [
    "### Output"
   ]
  },
  {
   "cell_type": "code",
   "execution_count": 20,
   "metadata": {},
   "outputs": [
    {
     "name": "stdout",
     "output_type": "stream",
     "text": [
      "Alice 24.666666666666668\n",
      "Alice got 24.666666666666668 points\n"
     ]
    }
   ],
   "source": [
    "name = 'Alice'\n",
    "grade = 74/3\n",
    "\n",
    "# Simple print statements\n",
    "print(name, grade)\n",
    "print(name, 'got', grade, 'points')"
   ]
  },
  {
   "cell_type": "code",
   "execution_count": 21,
   "metadata": {},
   "outputs": [
    {
     "name": "stdout",
     "output_type": "stream",
     "text": [
      "Alice got 24.67 points\n"
     ]
    }
   ],
   "source": [
    "# Format strings\n",
    "print(f'{name} got {grade:.2f} points')"
   ]
  },
  {
   "cell_type": "code",
   "execution_count": 22,
   "metadata": {},
   "outputs": [],
   "source": [
    "# Writing to files\n",
    "with open('grades.txt', 'w') as f: # Open file and have access to it. 'w' write to file (can read or append)\n",
    "    f.write(f'{name},{grade:.2f}\\n') "
   ]
  },
  {
   "cell_type": "code",
   "execution_count": null,
   "metadata": {},
   "outputs": [],
   "source": [
    "# Graphical output is also possible in forms of plots or interactive windows"
   ]
  },
  {
   "cell_type": "markdown",
   "metadata": {},
   "source": [
    "### Input"
   ]
  },
  {
   "cell_type": "code",
   "execution_count": 23,
   "metadata": {},
   "outputs": [],
   "source": [
    "# Read from user input\n",
    "name = input('Enter your name: ')\n",
    "grade = input('Enter your grade: ')\n",
    "print(name, grade)"
   ]
  },
  {
   "cell_type": "code",
   "execution_count": null,
   "metadata": {},
   "outputs": [],
   "source": [
    "# Read from file\n",
    "with open('grades.txt', 'r') as f:\n",
    "    for line in f:\n",
    "        name, grade = line.strip().split(',')\n",
    "        print(name, grade)"
   ]
  },
  {
   "cell_type": "markdown",
   "metadata": {},
   "source": [
    "## Functions"
   ]
  },
  {
   "cell_type": "markdown",
   "metadata": {},
   "source": [
    "### Basics"
   ]
  },
  {
   "cell_type": "code",
   "execution_count": 1,
   "metadata": {},
   "outputs": [
    {
     "data": {
      "text/plain": [
       "7"
      ]
     },
     "execution_count": 1,
     "metadata": {},
     "output_type": "execute_result"
    }
   ],
   "source": [
    "# Basic structure\n",
    "def add(x, y):\n",
    "    return x + y\n",
    "add(2, 5)"
   ]
  },
  {
   "cell_type": "code",
   "execution_count": 2,
   "metadata": {},
   "outputs": [
    {
     "name": "stdout",
     "output_type": "stream",
     "text": [
      "The sum of 2 and 5 is 7\n"
     ]
    },
    {
     "data": {
      "text/plain": [
       "4"
      ]
     },
     "execution_count": 2,
     "metadata": {},
     "output_type": "execute_result"
    }
   ],
   "source": [
    "# Optional arguments\n",
    "def add(x, y=1, verbose=True):\n",
    "    sum = x + y\n",
    "    if verbose:\n",
    "        print(f'The sum of {x} and {y} is {sum}')\n",
    "    return x + y\n",
    "\n",
    "add(2, 5)\n",
    "add(3, verbose=False)"
   ]
  },
  {
   "cell_type": "code",
   "execution_count": 3,
   "metadata": {},
   "outputs": [
    {
     "name": "stdout",
     "output_type": "stream",
     "text": [
      "2.0\n",
      "0.5\n"
     ]
    }
   ],
   "source": [
    "# Multiple return values\n",
    "def divide(x, y):\n",
    "    return x/y, y/x\n",
    "\n",
    "r1, r2 = divide(10, 5)\n",
    "print(r1)\n",
    "print(r2)"
   ]
  },
  {
   "cell_type": "code",
   "execution_count": 4,
   "metadata": {},
   "outputs": [
    {
     "name": "stdout",
     "output_type": "stream",
     "text": [
      "(2.0, 0.5)\n",
      "2.0\n",
      "0.5\n"
     ]
    }
   ],
   "source": [
    "# Actually returns a tuple\n",
    "r = divide(10, 5)\n",
    "print(r) # Will return a tuple\n",
    "\n",
    "# Which can be unpacked into different variables\n",
    "r1, r2 = r\n",
    "print(r1)\n",
    "print(r2)"
   ]
  },
  {
   "cell_type": "code",
   "execution_count": 5,
   "metadata": {},
   "outputs": [
    {
     "name": "stdout",
     "output_type": "stream",
     "text": [
      "<class 'dict'>\n",
      "The sum is 15\n",
      "Additional keyword arguments:\n",
      "name Alice\n"
     ]
    },
    {
     "data": {
      "text/plain": [
       "15"
      ]
     },
     "execution_count": 5,
     "metadata": {},
     "output_type": "execute_result"
    }
   ],
   "source": [
    "# Any number of args, any number of keyword args:\n",
    "# - `x0` is a normal arguments\n",
    "# - `args` captures all further unnamed arguments in a tuple\n",
    "# - `verbose` has to be supplied as a keyword argument\n",
    "# - `kwargs` captures all further keyword arguments in a dictionary\n",
    "\n",
    "def add(x0, *args, verbose=False, **kwargs): # * and ** tell python to capture all arguements and all keywords \n",
    "    sum = x0\n",
    "    print(type(kwargs))\n",
    "    for x in args:\n",
    "        sum += x\n",
    "    if verbose:\n",
    "        print(f'The sum is {sum}')\n",
    "    if verbose and len(kwargs) > 0:\n",
    "        print('Additional keyword arguments:')\n",
    "        for key, value in kwargs.items():\n",
    "            print(key, value)\n",
    "    return sum\n",
    "\n",
    "add(1, 2, 3, 4, 5, name = 'Alice', verbose=True)"
   ]
  },
  {
   "cell_type": "markdown",
   "metadata": {},
   "source": [
    "### Variable scopes"
   ]
  },
  {
   "cell_type": "code",
   "execution_count": 6,
   "metadata": {},
   "outputs": [
    {
     "name": "stdout",
     "output_type": "stream",
     "text": [
      "5\n"
     ]
    }
   ],
   "source": [
    "# Each function (call) has its own set of local variables\n",
    "# These variables are \"deleted\" after the function is done\n",
    "# Variables defined inside a function, it only stays within that function\n",
    "def giveFive():\n",
    "    privateX = 5\n",
    "    return(privateX)\n",
    "\n",
    "x = giveFive()\n",
    "print(x)\n",
    "# print(privateX) # This will raise an error"
   ]
  },
  {
   "cell_type": "code",
   "execution_count": 7,
   "metadata": {},
   "outputs": [
    {
     "name": "stdout",
     "output_type": "stream",
     "text": [
      "100\n",
      "105\n",
      "100\n"
     ]
    }
   ],
   "source": [
    "# A function always has read-access to the global scope (and that of outer functions)\n",
    "globalX = 100\n",
    "def giveFive():\n",
    "    privateX = globalX + 5\n",
    "    return(privateX)\n",
    "\n",
    "print(globalX)\n",
    "x = giveFive()\n",
    "print(x)\n",
    "print(globalX)"
   ]
  },
  {
   "cell_type": "code",
   "execution_count": 8,
   "metadata": {},
   "outputs": [
    {
     "name": "stdout",
     "output_type": "stream",
     "text": [
      "100\n",
      "105\n",
      "105\n"
     ]
    }
   ],
   "source": [
    "# To modify variables from the global scope (or that of outer functions)\n",
    "globalX = 100\n",
    "def giveFive():\n",
    "    global globalX # Indicate that we want \"write-access\", a global variable \n",
    "    globalX = globalX + 5\n",
    "    return globalX\n",
    "\n",
    "print(globalX)\n",
    "x = giveFive()\n",
    "print(x)\n",
    "print(globalX)"
   ]
  },
  {
   "cell_type": "code",
   "execution_count": 9,
   "metadata": {},
   "outputs": [
    {
     "name": "stdout",
     "output_type": "stream",
     "text": [
      "100\n",
      "105\n",
      "100\n"
     ]
    }
   ],
   "source": [
    "# By default, global variables are \"masked\" by private ones\n",
    "# Function arguments are local variables (i.e. they \"mask\" the global definitions)!\n",
    "x = 100\n",
    "def giveFive(x):\n",
    "    x = x + 5\n",
    "    return(x)\n",
    "\n",
    "print(x)\n",
    "print(giveFive(x))\n",
    "print(x)\n"
   ]
  },
  {
   "cell_type": "code",
   "execution_count": null,
   "metadata": {},
   "outputs": [],
   "source": [
    "# Mixing local, nonlocal (used for nested functions), and global variables can lead to errors or unexpected behavior!\n",
    "# The point of functions is to separate code into independent parts\n",
    "# -> use `global`, `nonlocal` sparingly!"
   ]
  },
  {
   "cell_type": "markdown",
   "metadata": {},
   "source": [
    "### Mutable arguments"
   ]
  },
  {
   "cell_type": "code",
   "execution_count": 11,
   "metadata": {},
   "outputs": [
    {
     "name": "stdout",
     "output_type": "stream",
     "text": [
      "[1, -2, 3]\n",
      "6\n",
      "[1, 2, 3]\n"
     ]
    }
   ],
   "source": [
    "# When mutable arguments are passed to a function,\n",
    "# changes made inside the function also affect the global/outer scope\n",
    "p = [1, -2, 3] # Make tuple if you want no one to touch. However, that will fail since trying to change in function\n",
    "\n",
    "def absSum(numbers):\n",
    "    sum = 0\n",
    "    for i in range(len(numbers)):\n",
    "        if numbers[i] < 0:\n",
    "            numbers[i] *= -1\n",
    "        sum += numbers[i]\n",
    "    return sum\n",
    "\n",
    "print(p)\n",
    "print(absSum(p))\n",
    "print(p)\n",
    "# Somtimes update list, others just to read the list"
   ]
  },
  {
   "cell_type": "markdown",
   "metadata": {},
   "source": [
    "## Object-oriented programming (OOP)"
   ]
  },
  {
   "cell_type": "markdown",
   "metadata": {},
   "source": [
    "Functions encapsulate code, but all their data is \"temporary\",\n",
    "since local variables are discarded after the function returns.\n",
    "\n",
    "\"Objects\" solve this problem by containing both data and code."
   ]
  },
  {
   "cell_type": "code",
   "execution_count": 12,
   "metadata": {},
   "outputs": [],
   "source": [
    "# Basic notions:\n",
    "# - `BirthdayPerson` is a class (defines data and behavior of object)\n",
    "# - `alice`, `bob` are instances of this class\n",
    "# - `__init__` is the initializer that \"creates\" a new instance of the class\n",
    "# - `name`, `age` are attributes that each instance has (but each their own)\n",
    "# - `celebrateBirthday` is a method (=function) that works with the data from each instance\n",
    "# - by convention, `self` always refers to the current instance of the class\n",
    "class BirthdayPerson:\n",
    "    def __init__(self, firstName, lastName): # Create an instant\n",
    "        self.name = f'{firstName} {lastName}'\n",
    "        self.age = 0\n",
    "    \n",
    "    def celebrateBirthday(self):\n",
    "        self.age += 1\n",
    "        print(f'Happy birthday to {self.name}! New age: {self.age}')"
   ]
  },
  {
   "cell_type": "code",
   "execution_count": 13,
   "metadata": {},
   "outputs": [
    {
     "name": "stdout",
     "output_type": "stream",
     "text": [
      "Happy birthday to Alison Archer! New age: 1\n",
      "Happy birthday to Alison Archer! New age: 2\n",
      "Happy birthday to Bob Builder! New age: 1\n",
      "Alison Archer\n",
      "2\n",
      "Bob Builder\n",
      "1\n"
     ]
    }
   ],
   "source": [
    "alice = BirthdayPerson('Alison', 'Archer')\n",
    "bob = BirthdayPerson('Bob', 'Builder')\n",
    "\n",
    "alice.celebrateBirthday()\n",
    "alice.celebrateBirthday()\n",
    "bob.celebrateBirthday()\n",
    "\n",
    "print(alice.name)\n",
    "print(alice.age)\n",
    "print(bob.name)\n",
    "print(bob.age)"
   ]
  },
  {
   "cell_type": "code",
   "execution_count": 14,
   "metadata": {},
   "outputs": [],
   "source": [
    "# To further separate class logic/data from the global program,\n",
    "# we use public attributes/methods and private attributes/methods\n",
    "# (Disclaimer: Python has limited support for public/private, but there are conventions)\n",
    "class NamePerson:\n",
    "    def __init__(self, firstName, lastName):\n",
    "        self._firstName = firstName # the underscore indicates that this is private\n",
    "        self._lastName = lastName # the underscore indicates that this is private\n",
    "    def _makeName(self):\n",
    "        return f'{self._firstName} {self._lastName}'\n",
    "    def sayName(self):\n",
    "        name = self._makeName()\n",
    "        print(name)\n",
    "    def changeLastName(self, newLastName):\n",
    "        if newLastName == self._lastName:\n",
    "            raise Exception('Cannot change name to old name!')\n",
    "        self._lastName = newLastName"
   ]
  },
  {
   "cell_type": "code",
   "execution_count": 15,
   "metadata": {},
   "outputs": [
    {
     "name": "stdout",
     "output_type": "stream",
     "text": [
      "Alison Archer\n",
      "Bob Builder\n",
      "Alison Arrow\n"
     ]
    }
   ],
   "source": [
    "alice = NamePerson('Alison', 'Archer')\n",
    "bob = NamePerson('Bob', 'Builder')\n",
    "\n",
    "alice.sayName()\n",
    "bob.sayName()\n",
    "alice.changeLastName('Arrow')\n",
    "alice.sayName()"
   ]
  },
  {
   "cell_type": "markdown",
   "metadata": {},
   "source": [
    "## General concepts/ideas"
   ]
  },
  {
   "cell_type": "markdown",
   "metadata": {},
   "source": [
    "  - Reading code vs. writing code\n",
    "    - Write comments\n",
    "    - Think about variable naming\n",
    "    - Avoid premature optimization\n",
    "    - Shorter code is not (necessarily) faster\n",
    "    - Refactor code between/after tasks\n",
    "    - (side note: easier to give partial credit for readable code!)\n",
    "  - DRY (\"don't repeat yourself\")\n",
    "    - Put repeated code in functions\n",
    "    - Write reusable code\n",
    "    - Define constants etc. only once\n",
    "  - Separation of concerns, \"principle of least knowledge\", \"single responsibility\"\n",
    "    - Separate e.g. user interaction from actual state updates\n",
    "    - Have graphical output separate from computations\n",
    "  - Functional style, immutable variables"
   ]
  }
 ],
 "metadata": {
  "kernelspec": {
   "display_name": "Python 3",
   "language": "python",
   "name": "python3"
  },
  "language_info": {
   "codemirror_mode": {
    "name": "ipython",
    "version": 3
   },
   "file_extension": ".py",
   "mimetype": "text/x-python",
   "name": "python",
   "nbconvert_exporter": "python",
   "pygments_lexer": "ipython3",
   "version": "3.11.8"
  }
 },
 "nbformat": 4,
 "nbformat_minor": 2
}
